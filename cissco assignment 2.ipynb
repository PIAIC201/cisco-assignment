{
 "cells": [
  {
   "cell_type": "code",
   "execution_count": 7,
   "metadata": {},
   "outputs": [
    {
     "name": "stdout",
     "output_type": "stream",
     "text": [
      "Enter your English marks: 80\n",
      "Enter your Urdu marks: 70\n",
      "Enter your Math marks: 90\n",
      "Enter your Physics marks: 70\n",
      "Enter your Islamiat marks: 60\n",
      "Total marks is 370.\n",
      "your Percentage is 74.0%.\n",
      "you got B grade.\n"
     ]
    }
   ],
   "source": [
    "# Q1. Write a program which takes 5 inputs from user for different subject's marks, total it and generate marksheet using grades.\n",
    "total_marks = 500\n",
    "Eng = int(input(\"Enter your English marks: \"))\n",
    "Urdu = int(input(\"Enter your Urdu marks: \"))\n",
    "Math = int(input(\"Enter your Math marks: \"))\n",
    "Physics = int(input(\"Enter your Physics marks: \"))\n",
    "Isl = int(input(\"Enter your Islamiat marks: \"))\n",
    "obt = Eng + Urdu + Math + Physics + Isl\n",
    "print(f\"Total marks is {obt}.\")\n",
    "result = obt/total_marks*100\n",
    "print(f\"your Percentage is {result}%.\" )\n",
    "if result >= 90:\n",
    "    print(\"congratulation! you got A_1 grade.\")\n",
    "elif result >= 80:\n",
    "    print(\"congratulation! you got A grade.\")\n",
    "elif result >= 70:\n",
    "    print(\"you got B grade.\")\n",
    "elif result >= 60:\n",
    "    print(\"you got C grade.\")\n",
    "elif result >= 50:\n",
    "    print(\"you got D grade.\")\n",
    "elif result >= 40:\n",
    "    print(\"you got E grade.\")\n",
    "else:\n",
    "    print(\"OOooppss! you are failled\")\n",
    "    \n",
    "    \n",
    "\n",
    "\n",
    "   \n"
   ]
  },
  {
   "cell_type": "code",
   "execution_count": 2,
   "metadata": {},
   "outputs": [
    {
     "name": "stdout",
     "output_type": "stream",
     "text": [
      "Enter a number : 5\n",
      "5 is odd number.\n"
     ]
    }
   ],
   "source": [
    " # Q2. Write a program which take input from user and identify that the given number is even or odd.\n",
    "value = int(input(\"Enter a number : \"))\n",
    "if value%2 == 0:\n",
    "    print(f\" {value} is even number.\")\n",
    "else: \n",
    "    print(f\"{value} is odd number.\")\n",
    "    "
   ]
  },
  {
   "cell_type": "code",
   "execution_count": 3,
   "metadata": {},
   "outputs": [
    {
     "data": {
      "text/plain": [
       "7"
      ]
     },
     "execution_count": 3,
     "metadata": {},
     "output_type": "execute_result"
    }
   ],
   "source": [
    "# Q3. Write a program which print the length of the list?\n",
    "\n",
    "list = [1, 2, 3, 4, 5, 6, 7]\n",
    "len(list)"
   ]
  },
  {
   "cell_type": "code",
   "execution_count": 4,
   "metadata": {},
   "outputs": [
    {
     "data": {
      "text/plain": [
       "30"
      ]
     },
     "execution_count": 4,
     "metadata": {},
     "output_type": "execute_result"
    }
   ],
   "source": [
    "# Q4. Write a Python program to sum all the numeric items in a list?\n",
    "\n",
    "list_1 = [2, 4, 6, 8, 10]\n",
    "sum(list_1)"
   ]
  },
  {
   "cell_type": "code",
   "execution_count": 5,
   "metadata": {},
   "outputs": [
    {
     "data": {
      "text/plain": [
       "16"
      ]
     },
     "execution_count": 5,
     "metadata": {},
     "output_type": "execute_result"
    }
   ],
   "source": [
    "# Q5. Write a Python program to get the largest number from a numeric list.\n",
    "\n",
    "list_2 = [4, 6, 8, 10, 12, 14, 16]\n",
    "max(list_2)"
   ]
  },
  {
   "cell_type": "code",
   "execution_count": 6,
   "metadata": {},
   "outputs": [
    {
     "name": "stdout",
     "output_type": "stream",
     "text": [
      "0\n",
      "1\n",
      "1\n",
      "2\n",
      "3\n",
      "4\n"
     ]
    }
   ],
   "source": [
    "# Q6. Write a program that prints out all the elements of the list that are less than 5.\n",
    "\n",
    "list_3 = [0, 1, 1, 2, 3, 4, 5, 6, 10, 15, 20, 25]\n",
    "for i in list_3:\n",
    "       if i <5:\n",
    "            print(i)"
   ]
  },
  {
   "cell_type": "code",
   "execution_count": null,
   "metadata": {},
   "outputs": [],
   "source": []
  }
 ],
 "metadata": {
  "kernelspec": {
   "display_name": "Python 3",
   "language": "python",
   "name": "python3"
  },
  "language_info": {
   "codemirror_mode": {
    "name": "ipython",
    "version": 3
   },
   "file_extension": ".py",
   "mimetype": "text/x-python",
   "name": "python",
   "nbconvert_exporter": "python",
   "pygments_lexer": "ipython3",
   "version": "3.7.4"
  }
 },
 "nbformat": 4,
 "nbformat_minor": 2
}
