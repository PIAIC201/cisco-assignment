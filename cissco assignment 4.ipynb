{
 "cells": [
  {
   "cell_type": "code",
   "execution_count": 1,
   "metadata": {},
   "outputs": [
    {
     "name": "stdout",
     "output_type": "stream",
     "text": [
      "{'first_name': 'Ali', 'last_name': 'Mughal', 'age': 30, 'city': 'karachi'}\n",
      "{'first_name': 'Ali', 'last_name': 'Mughal', 'age': 30, 'city': 'karachi', 'qualification': 'BS'}\n",
      "{'first_name': 'Ali', 'last_name': 'Mughal', 'age': 30, 'city': 'karachi', 'qualification': 'MS'}\n",
      "{'first_name': 'Ali', 'last_name': 'Mughal', 'age': 30, 'city': 'karachi'}\n"
     ]
    }
   ],
   "source": [
    "# Q1. Use a dictionary to store information about a person you know. Store their first name, last name, age, and the city in which they live. You should have keys such as first_name, last_name, age, and city. Print each piece of information stored in your dictionary. Add a new key value pair about qualification then update the qualification value to high academic level then delete it.\n",
    "info = {'first_name': 'Ali', 'last_name': 'Mughal', 'age': 30, 'city': 'karachi'}\n",
    "print(info)\n",
    "info['qualification']='BS'\n",
    "print(info)\n",
    "info['qualification']='MS'\n",
    "print(info)\n",
    "del info['qualification']\n",
    "print(info)\n"
   ]
  },
  {
   "cell_type": "code",
   "execution_count": 2,
   "metadata": {},
   "outputs": [
    {
     "name": "stdout",
     "output_type": "stream",
     "text": [
      "{'karachi': {'info': {'population': 15741000, 'fact': 'It is the sixth largest city in the world by city population.', 'country': 'pakistan'}}}\n",
      "{'mombai': {'info': {'population': 12967483, 'fact': 'Mumbai has 13 million inhabitants.', 'country': 'india'}}}\n",
      "{'Hiroshima': {'info': {'population': 2089157, 'fact': 'The city is widely known for being the target of the first atomic bombing in human history.', 'country': 'japan'}}}\n"
     ]
    }
   ],
   "source": [
    "cities = [\n",
    "           {'karachi': \n",
    "           {'info':\n",
    "           {'population': 15741000, 'fact': 'It is the sixth largest city in the world by city population.', 'country': 'pakistan' }\n",
    "           }\n",
    "           },\n",
    "           {'mombai': \n",
    "           {'info':\n",
    "           {'population': 12967483, 'fact': 'Mumbai has 13 million inhabitants.', 'country': 'india' }\n",
    "           }\n",
    "           }, \n",
    "           {'Hiroshima': \n",
    "           {'info':\n",
    "           {'population': 2089157, 'fact': 'The city is widely known for being the target of the first atomic bombing in human history.', 'country': 'japan' }\n",
    "           }\n",
    "           }\n",
    "]\n",
    "print(cities[0])\n",
    "print(cities[1])\n",
    "print(cities[2])"
   ]
  },
  {
   "cell_type": "code",
   "execution_count": 3,
   "metadata": {},
   "outputs": [
    {
     "name": "stdout",
     "output_type": "stream",
     "text": [
      "Enter your age: 5\n",
      "age between 3 and 12 ticket is 10 $\n"
     ]
    }
   ],
   "source": [
    "while True:\n",
    "    user_inp = int(input(\"Enter your age: \"))\n",
    "    if user_inp <3:\n",
    "        print(\"under the age of 3 ticket is free\")\n",
    "        break\n",
    "    elif user_inp <= 12:\n",
    "        print('age between 3 and 12 ticket is 10 $')\n",
    "        break\n",
    "    else:\n",
    "        print(\"age above than 12 ticket is 15 $\")\n",
    "        break\n",
    "        "
   ]
  },
  {
   "cell_type": "code",
   "execution_count": 4,
   "metadata": {},
   "outputs": [
    {
     "name": "stdout",
     "output_type": "stream",
     "text": [
      "one of my favourite book is The secret of the self \n"
     ]
    }
   ],
   "source": [
    "def favourite_book(title):\n",
    "    print('one of my favourite book is'\" \"+ title)\n",
    "    return\n",
    "favourite_book(\"The secret of the self \")"
   ]
  },
  {
   "cell_type": "code",
   "execution_count": 5,
   "metadata": {},
   "outputs": [
    {
     "name": "stdout",
     "output_type": "stream",
     "text": [
      "Guess a number one through 30: 15\n",
      "too low\n",
      "Guess a number one through 30: 20\n",
      "You got it!\n"
     ]
    }
   ],
   "source": [
    "#Q5. Write a program which randomly generate a number between 1 to 30 and ask the user in input field to guess the correct number. Give three chances to user guess the number and also give hint to user if hidden number is greater or smaller than the number he given to input field.\n",
    "from random import randint\n",
    "it = randint(0, 30)\n",
    "def guess():\n",
    "    while True:\n",
    "        x = int(input('Guess a number one through 30: '))\n",
    "        if x == it:\n",
    "            print(\"You got it!\")\n",
    "            break\n",
    "        elif x > it:\n",
    "            print(\"too high\")\n",
    "            \n",
    "        else:\n",
    "            print(\"too low\")\n",
    "guess()"
   ]
  },
  {
   "cell_type": "code",
   "execution_count": null,
   "metadata": {},
   "outputs": [],
   "source": []
  },
  {
   "cell_type": "code",
   "execution_count": null,
   "metadata": {},
   "outputs": [],
   "source": []
  }
 ],
 "metadata": {
  "kernelspec": {
   "display_name": "Python 3",
   "language": "python",
   "name": "python3"
  },
  "language_info": {
   "codemirror_mode": {
    "name": "ipython",
    "version": 3
   },
   "file_extension": ".py",
   "mimetype": "text/x-python",
   "name": "python",
   "nbconvert_exporter": "python",
   "pygments_lexer": "ipython3",
   "version": "3.7.4"
  }
 },
 "nbformat": 4,
 "nbformat_minor": 2
}
