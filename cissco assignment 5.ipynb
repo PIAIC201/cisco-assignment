{
 "cells": [
  {
   "cell_type": "code",
   "execution_count": 1,
   "metadata": {},
   "outputs": [
    {
     "name": "stdout",
     "output_type": "stream",
     "text": [
      "24\n"
     ]
    }
   ],
   "source": [
    "# Q1. Write a Python function to calculate the factorial of a number (a non-negative integer). The function accepts the number as an argument.\n",
    "def factorial(f):\n",
    "    if f == 0:\n",
    "        return 1\n",
    "    else:\n",
    "        return f * factorial(f-1)\n",
    "print(factorial(4))\n"
   ]
  },
  {
   "cell_type": "code",
   "execution_count": 2,
   "metadata": {},
   "outputs": [
    {
     "name": "stdout",
     "output_type": "stream",
     "text": [
      "Upper case letters: 3\n",
      "Lower case letters: 18\n"
     ]
    }
   ],
   "source": [
    "# Q2. Write a Python function that accepts a string and calculate the number of upper case letters and lower case letters.\n",
    "def Count(str): \n",
    "    upper, lower, number, special = 0, 0, 0, 0\n",
    "    for i in range(len(str)): \n",
    "        if str[i] >= 'A' and str[i] <= 'Z': \n",
    "            upper += 1\n",
    "        else:\n",
    "            lower += 1\n",
    "    print('Upper case letters:', upper) \n",
    "    print('Lower case letters:', lower) \n",
    "Count(\"My name is Sadaf Khan\")"
   ]
  },
  {
   "cell_type": "code",
   "execution_count": 3,
   "metadata": {},
   "outputs": [
    {
     "name": "stdout",
     "output_type": "stream",
     "text": [
      "2 is even number\n",
      "4 is even number\n"
     ]
    }
   ],
   "source": [
    "# Q3. Write a Python function to print the even numbers from a given list.\n",
    "def Even_num(list):\n",
    "    for i in list:\n",
    "        if i%2==0:\n",
    "            print(f'{i} is even number')\n",
    "\n",
    "Even_num([2,3,4,5])\n"
   ]
  },
  {
   "cell_type": "code",
   "execution_count": 4,
   "metadata": {},
   "outputs": [],
   "source": [
    "# Q4. Write a Python function that checks whether a passed string is palindrome or not. Note: A palindrome is a word, phrase, or sequence that reads the same backward as forward, e.g., madam\n",
    "def palindrome(str):\n",
    "    for i in (str):\n",
    "        if i[:2] == i[:-1]:\n",
    "            print(i) \n",
    "palindrome('madam')"
   ]
  },
  {
   "cell_type": "code",
   "execution_count": 5,
   "metadata": {},
   "outputs": [
    {
     "name": "stdout",
     "output_type": "stream",
     "text": [
      "7 is a prime number\n"
     ]
    }
   ],
   "source": [
    "# Q5. Write a Python function that takes a number as a parameter and check the number is prime or not.\n",
    "def prime_num(num):\n",
    "    if num > 1:\n",
    "        for i in range(2,num):\n",
    "            if (num % i) == 0:\n",
    "                print(num,\"is not a prime number\")\n",
    "                break\n",
    "            else:\n",
    "                print(num,\"is a prime number\")\n",
    "                break\n",
    "prime_num(7)"
   ]
  },
  {
   "cell_type": "code",
   "execution_count": 6,
   "metadata": {},
   "outputs": [
    {
     "name": "stdout",
     "output_type": "stream",
     "text": [
      "shoes\n",
      "shirt\n",
      "bag\n",
      "pants\n",
      "decoration piece\n"
     ]
    }
   ],
   "source": [
    "# Q6. Suppose a customer is shopping in a market and you need to print all the items which user bought from market. Write a function which accepts the multiple arguments of user shopping list and print all the items which user bought from market.\n",
    "def shopping_list(*list):\n",
    "    for i in list:\n",
    "        print(i)\n",
    "\n",
    "shopping_list('shoes', 'shirt', 'bag', 'pants', 'decoration piece') "
   ]
  },
  {
   "cell_type": "code",
   "execution_count": null,
   "metadata": {},
   "outputs": [],
   "source": []
  }
 ],
 "metadata": {
  "kernelspec": {
   "display_name": "Python 3",
   "language": "python",
   "name": "python3"
  },
  "language_info": {
   "codemirror_mode": {
    "name": "ipython",
    "version": 3
   },
   "file_extension": ".py",
   "mimetype": "text/x-python",
   "name": "python",
   "nbconvert_exporter": "python",
   "pygments_lexer": "ipython3",
   "version": "3.7.4"
  }
 },
 "nbformat": 4,
 "nbformat_minor": 2
}
