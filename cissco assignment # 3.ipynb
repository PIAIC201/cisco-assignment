{
 "cells": [
  {
   "cell_type": "code",
   "execution_count": 1,
   "metadata": {},
   "outputs": [
    {
     "name": "stdout",
     "output_type": "stream",
     "text": [
      "Enter a number: 5\n",
      "Enter a number: 5\n",
      "Enter an operator: **\n",
      "3125\n"
     ]
    }
   ],
   "source": [
    "# Q1. Make a calculator using python with addition, subtraction, multiplication, division and power.\n",
    "inp_1 = int(input(\"Enter a number: \"))\n",
    "inp_2 = int(input(\"Enter a number: \"))\n",
    "operators = (input(\"Enter an operator: \"))\n",
    "if operators == \"+\":\n",
    "    Ans = inp_1 + inp_2\n",
    "    print (Ans)\n",
    "elif operators == \"-\":\n",
    "    Ans = inp_1 - inp_2\n",
    "    print (Ans)\n",
    "elif operators == \"*\":\n",
    "    Ans = inp_1 * inp_2\n",
    "    print (Ans)\n",
    "elif operators == \"//\":\n",
    "    Ans = inp_1 // inp_2  \n",
    "    print(Ans)\n",
    "elif operators == \"**\":\n",
    "    Ans = inp_1**inp_2\n",
    "    print(Ans)\n",
    "else:\n",
    "    print('Enter correct operator.')\n",
    "    \n",
    "        \n",
    "    \n",
    "    "
   ]
  },
  {
   "cell_type": "code",
   "execution_count": 2,
   "metadata": {},
   "outputs": [
    {
     "name": "stdout",
     "output_type": "stream",
     "text": [
      "yes! this is numeric value.\n",
      "yes! this is numeric value.\n",
      "yes! this is numeric value.\n",
      "This is not numeric value.\n",
      "This is not numeric value.\n",
      "yes! this is numeric value.\n"
     ]
    }
   ],
   "source": [
    "#Q2. Write a program to check if there is any numeric value in list using for loop.\n",
    "list_1 = [24, 64, 2.0, \"ali\", \"shahvaiz\", 4.6]\n",
    "for list_2 in (list_1):\n",
    "    if list_2 ==(str(list_2)):\n",
    "        print('This is not numeric value.')\n",
    "    else:\n",
    "        print( \"yes! this is numeric value.\")\n",
    "\n"
   ]
  },
  {
   "cell_type": "code",
   "execution_count": 3,
   "metadata": {},
   "outputs": [
    {
     "data": {
      "text/plain": [
       "{'ice_cream': ['vanila', 'strawberry', 'choclate'],\n",
       " 'fast_food': ['burger', 'pizza'],\n",
       " 'beverages': ['tea', 'coffee', 'soft drink', 'juice']}"
      ]
     },
     "execution_count": 3,
     "metadata": {},
     "output_type": "execute_result"
    }
   ],
   "source": [
    "#Q3. Write a python script to add a key to a dictionary.\n",
    "dic = {'ice_cream': ['vanila', 'strawberry', 'choclate'], 'fast_food': ['burger', 'pizza']}\n",
    "dic\n",
    "dic['beverages']=['tea', 'coffee', 'soft drink', 'juice']\n",
    "dic\n"
   ]
  },
  {
   "cell_type": "code",
   "execution_count": 4,
   "metadata": {},
   "outputs": [
    {
     "name": "stdout",
     "output_type": "stream",
     "text": [
      "20\n"
     ]
    }
   ],
   "source": [
    "#Q4. Write a python program to sum all the numeric items in a dictionary.\n",
    "d1 = {'num': 6, 'num1': 6, 'num2': 8}\n",
    "print(sum(d1.values()))\n"
   ]
  },
  {
   "cell_type": "code",
   "execution_count": 5,
   "metadata": {},
   "outputs": [
    {
     "name": "stdout",
     "output_type": "stream",
     "text": [
      "[2, 3, 4]\n"
     ]
    }
   ],
   "source": [
    "#Q5. Write a program to identify duplicate values from list.\n",
    "def Repeat(x): \n",
    "    _size = len(x) \n",
    "    repeated = [] \n",
    "    for i in range(_size): \n",
    "        k = i + 1\n",
    "        for j in range(k, _size): \n",
    "            if x[i] == x[j] and x[i] not in repeated: \n",
    "                repeated.append(x[i]) \n",
    "    return repeated \n",
    "lst = [1, 2, 3, 4, 5, 2, 4, 6, 3, 4, 2]\n",
    "print(Repeat(lst))"
   ]
  },
  {
   "cell_type": "code",
   "execution_count": 6,
   "metadata": {},
   "outputs": [
    {
     "name": "stdout",
     "output_type": "stream",
     "text": [
      "Please enter the Key you want to search for: older\n",
      "Key is already exist.\n"
     ]
    }
   ],
   "source": [
    "#Q6. Write a python program to check if a given key already exist in a dictionary.\n",
    "d2 = {'boys': 2, 'girls':5, 'mature': 6, 'older': 3, 'girls':6,}\n",
    "key = input(\"Please enter the Key you want to search for: \")\n",
    "for i in d2:\n",
    "    i==key\n",
    "    print('Key is already exist.')\n",
    "    break\n",
    "else:\n",
    "    print('Key is not exist.')\n",
    "\n"
   ]
  },
  {
   "cell_type": "code",
   "execution_count": null,
   "metadata": {},
   "outputs": [],
   "source": []
  }
 ],
 "metadata": {
  "kernelspec": {
   "display_name": "Python 3",
   "language": "python",
   "name": "python3"
  },
  "language_info": {
   "codemirror_mode": {
    "name": "ipython",
    "version": 3
   },
   "file_extension": ".py",
   "mimetype": "text/x-python",
   "name": "python",
   "nbconvert_exporter": "python",
   "pygments_lexer": "ipython3",
   "version": "3.7.4"
  }
 },
 "nbformat": 4,
 "nbformat_minor": 2
}
