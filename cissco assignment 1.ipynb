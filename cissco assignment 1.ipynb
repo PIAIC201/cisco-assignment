{
 "cells": [
  {
   "cell_type": "code",
   "execution_count": 1,
   "metadata": {},
   "outputs": [
    {
     "name": "stdout",
     "output_type": "stream",
     "text": [
      "Twinkle, twinkle, little star,\n",
      "\t How I wonder what you are!\n",
      "\t\t Up above the world so high,\n",
      "\t\t Like a diamond in the sky.\n",
      "Twinkle, twinkle, little star,\n",
      "\t How I wonder what you are\n"
     ]
    }
   ],
   "source": [
    "# Q1. Write a python program to print the following string in a specific format.\n",
    "poem = \"\"\"Twinkle, twinkle, little star,\n",
    "\\t How I wonder what you are!\n",
    "\\t\\t Up above the world so high,\n",
    "\\t\\t Like a diamond in the sky.\n",
    "Twinkle, twinkle, little star,\n",
    "\\t How I wonder what you are\"\"\"\n",
    "print(poem)"
   ]
  },
  {
   "cell_type": "code",
   "execution_count": 2,
   "metadata": {},
   "outputs": [
    {
     "data": {
      "text/plain": [
       "'3.6.4 |Anaconda, Inc.| (default, Jan 16 2018, 10:22:32) [MSC v.1900 64 bit (AMD64)]'"
      ]
     },
     "execution_count": 2,
     "metadata": {},
     "output_type": "execute_result"
    }
   ],
   "source": [
    "# Q2. Write a python program to get the pthon version you are using.\n",
    "\n",
    "import sys\n",
    "sys.version"
   ]
  },
  {
   "cell_type": "code",
   "execution_count": 3,
   "metadata": {},
   "outputs": [
    {
     "name": "stdout",
     "output_type": "stream",
     "text": [
      "2019-11-05 14:23:24.842265\n"
     ]
    }
   ],
   "source": [
    "# Q3. Write a python program to display the current date and time.\n",
    "\n",
    "from datetime import datetime\n",
    "now = datetime.now()\n",
    "print(now)"
   ]
  },
  {
   "cell_type": "code",
   "execution_count": 4,
   "metadata": {},
   "outputs": [
    {
     "name": "stdout",
     "output_type": "stream",
     "text": [
      "Enter radius of a circle: 2\n",
      "Answer of given radius 2 is 12.56\n"
     ]
    }
   ],
   "source": [
    "# Q4. Write a python program which accepts the radius of a circle from the user and compute the area.\n",
    "\n",
    "radius = int(input(\"Enter radius of a circle: \"))\n",
    "answer = 3.14*(radius)**2\n",
    "print (f\"Answer of given radius {radius} is {answer}\")"
   ]
  },
  {
   "cell_type": "code",
   "execution_count": 5,
   "metadata": {},
   "outputs": [
    {
     "name": "stdout",
     "output_type": "stream",
     "text": [
      "Enter your first_name: sadaf\n",
      "Enter your last_name: jalil\n",
      "jalil sadaf\n"
     ]
    }
   ],
   "source": [
    "# Q5. Write a python program which accepts the user's first and last name and print them in reverse order with space.\n",
    "\n",
    "f_name = (input(\"Enter your first_name: \"))\n",
    "l_name = (input(\"Enter your last_name: \"))\n",
    "print(f\"{l_name} {f_name}\")"
   ]
  },
  {
   "cell_type": "code",
   "execution_count": 6,
   "metadata": {},
   "outputs": [
    {
     "name": "stdout",
     "output_type": "stream",
     "text": [
      " Enter a number: 65\n",
      " Enter second number: 35\n",
      "Addition of 65 and 35 is 100.\n"
     ]
    }
   ],
   "source": [
    "# Q6. Write a python program which take two input from users and print them addition.\n",
    "\n",
    "value_1 = int(input(\" Enter a number: \"))\n",
    "value_2 = int(input(\" Enter second number: \"))\n",
    "add = value_1+value_2\n",
    "print(f\"Addition of {value_1} and {value_2} is {add}.\")"
   ]
  },
  {
   "cell_type": "code",
   "execution_count": null,
   "metadata": {},
   "outputs": [],
   "source": []
  }
 ],
 "metadata": {
  "kernelspec": {
   "display_name": "Python 3",
   "language": "python",
   "name": "python3"
  },
  "language_info": {
   "codemirror_mode": {
    "name": "ipython",
    "version": 3
   },
   "file_extension": ".py",
   "mimetype": "text/x-python",
   "name": "python",
   "nbconvert_exporter": "python",
   "pygments_lexer": "ipython3",
   "version": "3.6.4"
  }
 },
 "nbformat": 4,
 "nbformat_minor": 2
}
